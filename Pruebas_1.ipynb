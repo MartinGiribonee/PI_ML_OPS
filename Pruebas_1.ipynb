{
 "cells": [
  {
   "attachments": {},
   "cell_type": "markdown",
   "metadata": {},
   "source": [
    "### Protecto Individual 01\n",
    "DATA07 - Martín Giribone"
   ]
  },
  {
   "cell_type": "code",
   "execution_count": 5,
   "metadata": {},
   "outputs": [],
   "source": [
    "#Importo librerias a utilizar \n",
    "from fastapi import FastAPI\n",
    "import numpy as np\n",
    "import pandas as pd\n",
    "from fastapi.responses import JSONResponse\n",
    "from fastapi.encoders import jsonable_encoder\n",
    "\n"
   ]
  },
  {
   "cell_type": "code",
   "execution_count": 2,
   "metadata": {},
   "outputs": [],
   "source": [
    "#Cargo el dataster\n",
    "df = pd.read_csv('plataformas_completo.csv')"
   ]
  },
  {
   "cell_type": "code",
   "execution_count": 13,
   "metadata": {},
   "outputs": [
    {
     "data": {
      "text/html": [
       "<div>\n",
       "<style scoped>\n",
       "    .dataframe tbody tr th:only-of-type {\n",
       "        vertical-align: middle;\n",
       "    }\n",
       "\n",
       "    .dataframe tbody tr th {\n",
       "        vertical-align: top;\n",
       "    }\n",
       "\n",
       "    .dataframe thead th {\n",
       "        text-align: right;\n",
       "    }\n",
       "</style>\n",
       "<table border=\"1\" class=\"dataframe\">\n",
       "  <thead>\n",
       "    <tr style=\"text-align: right;\">\n",
       "      <th></th>\n",
       "      <th>Unnamed: 0</th>\n",
       "      <th>show_id</th>\n",
       "      <th>type</th>\n",
       "      <th>title</th>\n",
       "      <th>director</th>\n",
       "      <th>cast</th>\n",
       "      <th>country</th>\n",
       "      <th>date_added</th>\n",
       "      <th>release_year</th>\n",
       "      <th>rating</th>\n",
       "      <th>duration</th>\n",
       "      <th>listed_in</th>\n",
       "      <th>description</th>\n",
       "      <th>ID</th>\n",
       "      <th>duration_int</th>\n",
       "      <th>duration_type</th>\n",
       "      <th>platform</th>\n",
       "      <th>score</th>\n",
       "    </tr>\n",
       "  </thead>\n",
       "  <tbody>\n",
       "    <tr>\n",
       "      <th>0</th>\n",
       "      <td>0</td>\n",
       "      <td>s1</td>\n",
       "      <td>movie</td>\n",
       "      <td>the grand seduction</td>\n",
       "      <td>don mckellar</td>\n",
       "      <td>brendan gleeson, taylor kitsch, gordon pinsent</td>\n",
       "      <td>canada</td>\n",
       "      <td>2021-03-30</td>\n",
       "      <td>2014</td>\n",
       "      <td>g</td>\n",
       "      <td>113 min</td>\n",
       "      <td>comedy, drama</td>\n",
       "      <td>a small fishing village must procure a local d...</td>\n",
       "      <td>as1</td>\n",
       "      <td>113</td>\n",
       "      <td>min</td>\n",
       "      <td>amazon</td>\n",
       "      <td>3.467131</td>\n",
       "    </tr>\n",
       "    <tr>\n",
       "      <th>1</th>\n",
       "      <td>1</td>\n",
       "      <td>s2</td>\n",
       "      <td>movie</td>\n",
       "      <td>take care good night</td>\n",
       "      <td>girish joshi</td>\n",
       "      <td>mahesh manjrekar, abhay mahajan, sachin khedekar</td>\n",
       "      <td>india</td>\n",
       "      <td>2021-03-30</td>\n",
       "      <td>2018</td>\n",
       "      <td>13+</td>\n",
       "      <td>110 min</td>\n",
       "      <td>drama, international</td>\n",
       "      <td>a metro family decides to fight a cyber crimin...</td>\n",
       "      <td>as2</td>\n",
       "      <td>110</td>\n",
       "      <td>min</td>\n",
       "      <td>amazon</td>\n",
       "      <td>3.548682</td>\n",
       "    </tr>\n",
       "    <tr>\n",
       "      <th>2</th>\n",
       "      <td>2</td>\n",
       "      <td>s3</td>\n",
       "      <td>movie</td>\n",
       "      <td>secrets of deception</td>\n",
       "      <td>josh webber</td>\n",
       "      <td>tom sizemore, lorenzo lamas, robert lasardo, r...</td>\n",
       "      <td>united states</td>\n",
       "      <td>2021-03-30</td>\n",
       "      <td>2017</td>\n",
       "      <td>g</td>\n",
       "      <td>74 min</td>\n",
       "      <td>action, drama, suspense</td>\n",
       "      <td>after a man discovers his wife is cheating on ...</td>\n",
       "      <td>as3</td>\n",
       "      <td>74</td>\n",
       "      <td>min</td>\n",
       "      <td>amazon</td>\n",
       "      <td>3.500000</td>\n",
       "    </tr>\n",
       "    <tr>\n",
       "      <th>3</th>\n",
       "      <td>3</td>\n",
       "      <td>s4</td>\n",
       "      <td>movie</td>\n",
       "      <td>pink: staying true</td>\n",
       "      <td>sonia anderson</td>\n",
       "      <td>interviews with: pink, adele, beyoncé, britney...</td>\n",
       "      <td>united states</td>\n",
       "      <td>2021-03-30</td>\n",
       "      <td>2014</td>\n",
       "      <td>g</td>\n",
       "      <td>69 min</td>\n",
       "      <td>documentary</td>\n",
       "      <td>pink breaks the mold once again, bringing her ...</td>\n",
       "      <td>as4</td>\n",
       "      <td>69</td>\n",
       "      <td>min</td>\n",
       "      <td>amazon</td>\n",
       "      <td>3.538055</td>\n",
       "    </tr>\n",
       "    <tr>\n",
       "      <th>4</th>\n",
       "      <td>4</td>\n",
       "      <td>s5</td>\n",
       "      <td>movie</td>\n",
       "      <td>monster maker</td>\n",
       "      <td>giles foster</td>\n",
       "      <td>harry dean stanton, kieran o'brien, george cos...</td>\n",
       "      <td>united kingdom</td>\n",
       "      <td>2021-03-30</td>\n",
       "      <td>1989</td>\n",
       "      <td>g</td>\n",
       "      <td>45 min</td>\n",
       "      <td>drama, fantasy</td>\n",
       "      <td>teenage matt banting wants to work with a famo...</td>\n",
       "      <td>as5</td>\n",
       "      <td>45</td>\n",
       "      <td>min</td>\n",
       "      <td>amazon</td>\n",
       "      <td>3.478992</td>\n",
       "    </tr>\n",
       "  </tbody>\n",
       "</table>\n",
       "</div>"
      ],
      "text/plain": [
       "   Unnamed: 0 show_id   type                 title        director  \\\n",
       "0           0      s1  movie   the grand seduction    don mckellar   \n",
       "1           1      s2  movie  take care good night    girish joshi   \n",
       "2           2      s3  movie  secrets of deception     josh webber   \n",
       "3           3      s4  movie    pink: staying true  sonia anderson   \n",
       "4           4      s5  movie         monster maker    giles foster   \n",
       "\n",
       "                                                cast         country  \\\n",
       "0     brendan gleeson, taylor kitsch, gordon pinsent          canada   \n",
       "1   mahesh manjrekar, abhay mahajan, sachin khedekar           india   \n",
       "2  tom sizemore, lorenzo lamas, robert lasardo, r...   united states   \n",
       "3  interviews with: pink, adele, beyoncé, britney...   united states   \n",
       "4  harry dean stanton, kieran o'brien, george cos...  united kingdom   \n",
       "\n",
       "   date_added  release_year rating duration                listed_in  \\\n",
       "0  2021-03-30          2014      g  113 min            comedy, drama   \n",
       "1  2021-03-30          2018    13+  110 min     drama, international   \n",
       "2  2021-03-30          2017      g   74 min  action, drama, suspense   \n",
       "3  2021-03-30          2014      g   69 min              documentary   \n",
       "4  2021-03-30          1989      g   45 min           drama, fantasy   \n",
       "\n",
       "                                         description   ID  duration_int  \\\n",
       "0  a small fishing village must procure a local d...  as1           113   \n",
       "1  a metro family decides to fight a cyber crimin...  as2           110   \n",
       "2  after a man discovers his wife is cheating on ...  as3            74   \n",
       "3  pink breaks the mold once again, bringing her ...  as4            69   \n",
       "4  teenage matt banting wants to work with a famo...  as5            45   \n",
       "\n",
       "  duration_type platform     score  \n",
       "0           min   amazon  3.467131  \n",
       "1           min   amazon  3.548682  \n",
       "2           min   amazon  3.500000  \n",
       "3           min   amazon  3.538055  \n",
       "4           min   amazon  3.478992  "
      ]
     },
     "execution_count": 13,
     "metadata": {},
     "output_type": "execute_result"
    }
   ],
   "source": [
    "#Reviso su carga\n",
    "df.head()"
   ]
  },
  {
   "cell_type": "code",
   "execution_count": 36,
   "metadata": {},
   "outputs": [],
   "source": [
    "#Dropeo la columna 'Unnamed: 0'\n",
    "df.drop(columns=['Unnamed: 0'], inplace=True)"
   ]
  },
  {
   "cell_type": "code",
   "execution_count": 38,
   "metadata": {},
   "outputs": [
    {
     "data": {
      "text/html": [
       "<div>\n",
       "<style scoped>\n",
       "    .dataframe tbody tr th:only-of-type {\n",
       "        vertical-align: middle;\n",
       "    }\n",
       "\n",
       "    .dataframe tbody tr th {\n",
       "        vertical-align: top;\n",
       "    }\n",
       "\n",
       "    .dataframe thead th {\n",
       "        text-align: right;\n",
       "    }\n",
       "</style>\n",
       "<table border=\"1\" class=\"dataframe\">\n",
       "  <thead>\n",
       "    <tr style=\"text-align: right;\">\n",
       "      <th></th>\n",
       "      <th>show_id</th>\n",
       "      <th>type</th>\n",
       "      <th>title</th>\n",
       "      <th>director</th>\n",
       "      <th>cast</th>\n",
       "      <th>country</th>\n",
       "      <th>date_added</th>\n",
       "      <th>release_year</th>\n",
       "      <th>rating</th>\n",
       "      <th>duration</th>\n",
       "      <th>listed_in</th>\n",
       "      <th>description</th>\n",
       "      <th>ID</th>\n",
       "      <th>duration_int</th>\n",
       "      <th>duration_type</th>\n",
       "      <th>platform</th>\n",
       "      <th>score</th>\n",
       "    </tr>\n",
       "  </thead>\n",
       "  <tbody>\n",
       "    <tr>\n",
       "      <th>0</th>\n",
       "      <td>s1</td>\n",
       "      <td>movie</td>\n",
       "      <td>the grand seduction</td>\n",
       "      <td>don mckellar</td>\n",
       "      <td>brendan gleeson, taylor kitsch, gordon pinsent</td>\n",
       "      <td>canada</td>\n",
       "      <td>2021-03-30</td>\n",
       "      <td>2014</td>\n",
       "      <td>g</td>\n",
       "      <td>113 min</td>\n",
       "      <td>comedy, drama</td>\n",
       "      <td>a small fishing village must procure a local d...</td>\n",
       "      <td>as1</td>\n",
       "      <td>113</td>\n",
       "      <td>min</td>\n",
       "      <td>amazon</td>\n",
       "      <td>3.467131</td>\n",
       "    </tr>\n",
       "    <tr>\n",
       "      <th>1</th>\n",
       "      <td>s2</td>\n",
       "      <td>movie</td>\n",
       "      <td>take care good night</td>\n",
       "      <td>girish joshi</td>\n",
       "      <td>mahesh manjrekar, abhay mahajan, sachin khedekar</td>\n",
       "      <td>india</td>\n",
       "      <td>2021-03-30</td>\n",
       "      <td>2018</td>\n",
       "      <td>13+</td>\n",
       "      <td>110 min</td>\n",
       "      <td>drama, international</td>\n",
       "      <td>a metro family decides to fight a cyber crimin...</td>\n",
       "      <td>as2</td>\n",
       "      <td>110</td>\n",
       "      <td>min</td>\n",
       "      <td>amazon</td>\n",
       "      <td>3.548682</td>\n",
       "    </tr>\n",
       "    <tr>\n",
       "      <th>2</th>\n",
       "      <td>s3</td>\n",
       "      <td>movie</td>\n",
       "      <td>secrets of deception</td>\n",
       "      <td>josh webber</td>\n",
       "      <td>tom sizemore, lorenzo lamas, robert lasardo, r...</td>\n",
       "      <td>united states</td>\n",
       "      <td>2021-03-30</td>\n",
       "      <td>2017</td>\n",
       "      <td>g</td>\n",
       "      <td>74 min</td>\n",
       "      <td>action, drama, suspense</td>\n",
       "      <td>after a man discovers his wife is cheating on ...</td>\n",
       "      <td>as3</td>\n",
       "      <td>74</td>\n",
       "      <td>min</td>\n",
       "      <td>amazon</td>\n",
       "      <td>3.500000</td>\n",
       "    </tr>\n",
       "    <tr>\n",
       "      <th>3</th>\n",
       "      <td>s4</td>\n",
       "      <td>movie</td>\n",
       "      <td>pink: staying true</td>\n",
       "      <td>sonia anderson</td>\n",
       "      <td>interviews with: pink, adele, beyoncé, britney...</td>\n",
       "      <td>united states</td>\n",
       "      <td>2021-03-30</td>\n",
       "      <td>2014</td>\n",
       "      <td>g</td>\n",
       "      <td>69 min</td>\n",
       "      <td>documentary</td>\n",
       "      <td>pink breaks the mold once again, bringing her ...</td>\n",
       "      <td>as4</td>\n",
       "      <td>69</td>\n",
       "      <td>min</td>\n",
       "      <td>amazon</td>\n",
       "      <td>3.538055</td>\n",
       "    </tr>\n",
       "    <tr>\n",
       "      <th>4</th>\n",
       "      <td>s5</td>\n",
       "      <td>movie</td>\n",
       "      <td>monster maker</td>\n",
       "      <td>giles foster</td>\n",
       "      <td>harry dean stanton, kieran o'brien, george cos...</td>\n",
       "      <td>united kingdom</td>\n",
       "      <td>2021-03-30</td>\n",
       "      <td>1989</td>\n",
       "      <td>g</td>\n",
       "      <td>45 min</td>\n",
       "      <td>drama, fantasy</td>\n",
       "      <td>teenage matt banting wants to work with a famo...</td>\n",
       "      <td>as5</td>\n",
       "      <td>45</td>\n",
       "      <td>min</td>\n",
       "      <td>amazon</td>\n",
       "      <td>3.478992</td>\n",
       "    </tr>\n",
       "  </tbody>\n",
       "</table>\n",
       "</div>"
      ],
      "text/plain": [
       "  show_id   type                 title        director  \\\n",
       "0      s1  movie   the grand seduction    don mckellar   \n",
       "1      s2  movie  take care good night    girish joshi   \n",
       "2      s3  movie  secrets of deception     josh webber   \n",
       "3      s4  movie    pink: staying true  sonia anderson   \n",
       "4      s5  movie         monster maker    giles foster   \n",
       "\n",
       "                                                cast         country  \\\n",
       "0     brendan gleeson, taylor kitsch, gordon pinsent          canada   \n",
       "1   mahesh manjrekar, abhay mahajan, sachin khedekar           india   \n",
       "2  tom sizemore, lorenzo lamas, robert lasardo, r...   united states   \n",
       "3  interviews with: pink, adele, beyoncé, britney...   united states   \n",
       "4  harry dean stanton, kieran o'brien, george cos...  united kingdom   \n",
       "\n",
       "   date_added  release_year rating duration                listed_in  \\\n",
       "0  2021-03-30          2014      g  113 min            comedy, drama   \n",
       "1  2021-03-30          2018    13+  110 min     drama, international   \n",
       "2  2021-03-30          2017      g   74 min  action, drama, suspense   \n",
       "3  2021-03-30          2014      g   69 min              documentary   \n",
       "4  2021-03-30          1989      g   45 min           drama, fantasy   \n",
       "\n",
       "                                         description   ID  duration_int  \\\n",
       "0  a small fishing village must procure a local d...  as1           113   \n",
       "1  a metro family decides to fight a cyber crimin...  as2           110   \n",
       "2  after a man discovers his wife is cheating on ...  as3            74   \n",
       "3  pink breaks the mold once again, bringing her ...  as4            69   \n",
       "4  teenage matt banting wants to work with a famo...  as5            45   \n",
       "\n",
       "  duration_type platform     score  \n",
       "0           min   amazon  3.467131  \n",
       "1           min   amazon  3.548682  \n",
       "2           min   amazon  3.500000  \n",
       "3           min   amazon  3.538055  \n",
       "4           min   amazon  3.478992  "
      ]
     },
     "execution_count": 38,
     "metadata": {},
     "output_type": "execute_result"
    }
   ],
   "source": [
    "#Verifico\n",
    "df.head()"
   ]
  },
  {
   "attachments": {},
   "cell_type": "markdown",
   "metadata": {},
   "source": [
    "## Desarrollo API: Propones disponibilizar los datos de la empresa usando el framework FastAPI. Las consultas que propones son las siguientes:\n",
    "\n",
    "    +Película con mayor duración con filtros opcionales de AÑO, PLATAFORMA Y TIPO DE DURACIÓN. (la función debe llamarse get_max_duration(year, platform, duration_type))\n",
    "\n",
    "    +Cantidad de películas por plataforma con un puntaje mayor a XX en determinado año (la función debe llamarse get_score_count(platform, scored, year))\n",
    "\n",
    "    +Cantidad de películas por plataforma con filtro de PLATAFORMA. (La función debe llamarse get_count_platform(platform))\n",
    "\n",
    "    +Actor que más se repite según plataforma y año. (La función debe llamarse get_actor(platform, year))"
   ]
  },
  {
   "attachments": {},
   "cell_type": "markdown",
   "metadata": {},
   "source": [
    "+Película con mayor duración con filtros opcionales de AÑO, PLATAFORMA Y TIPO DE DURACIÓN. (la función debe llamarse get_max_duration(year, platform, duration_type))"
   ]
  },
  {
   "cell_type": "code",
   "execution_count": 20,
   "metadata": {},
   "outputs": [],
   "source": [
    "#Defino la función\n",
    "def get_max_duration(year : int, platform : str, duration_type: str):\n",
    "    #Lectura de la base de datos:\n",
    "    df = pd.read_csv('plataformas_completo.csv')\n",
    "     # Verificar que la plataforma sea una de las opciones válidas\n",
    "    if platform is not None and platform.lower() not in ['disney', 'amazon', 'hulu', 'netflix']:\n",
    "        raise ValueError(\"La plataforma debe ser una de las opciones válidas: Disney, Amazon, Hulu o Netflix.\")\n",
    "\n",
    "    canal= df[df['ID'].str.contains(platform[0], case= False)]\n",
    "    filtro= canal[(canal.release_year == year) & (canal.type== 'movie') & (canal.duration_type == duration_type)]\n",
    "    duracion= filtro[['title','duration_int', 'duration_type']].loc[filtro.duration_int.idxmax()] \n",
    "    pelicula= duracion.T.to_dict() \n",
    "    return pelicula"
   ]
  },
  {
   "cell_type": "code",
   "execution_count": 21,
   "metadata": {},
   "outputs": [
    {
     "data": {
      "text/plain": [
       "<starlette.responses.JSONResponse at 0x170ff8d6450>"
      ]
     },
     "execution_count": 21,
     "metadata": {},
     "output_type": "execute_result"
    }
   ],
   "source": [
    "get_max_duration(2016, 'amazon', 'min')"
   ]
  },
  {
   "attachments": {},
   "cell_type": "markdown",
   "metadata": {},
   "source": [
    "+Cantidad de películas por plataforma con un puntaje mayor a XX en determinado año (la función debe llamarse get_score_count(platform, scored, year))"
   ]
  },
  {
   "cell_type": "code",
   "execution_count": 6,
   "metadata": {},
   "outputs": [],
   "source": [
    "#Defino la función\n",
    "def get_score_count(platform : str, scored : float, release_year: int):\n",
    "    #Lectura de la base de datos:\n",
    "    df = pd.read_csv('plataformas_completo.csv')\n",
    "\n",
    "    # Verificar que la plataforma sea una de las opciones válidas\n",
    "    if platform is not None and platform.lower() not in ['disney', 'amazon', 'hulu', 'netflix']:\n",
    "        raise ValueError(\"La plataforma debe ser una de las opciones válidas: Disney, Amazon, Hulu o Netflix.\")\n",
    "    \n",
    "   # Filtrar las películas para la plataforma, año y puntaje especificados\n",
    "    pelis = df[(df.platform == platform) & (df.score > scored) & (df.release_year == release_year) & (df.type == 'movie')]\n",
    "\n",
    "   # Agrupar por plataforma y contar el número de filas resultantes\n",
    "    count = pelis.groupby('platform').size()\n",
    "    \n",
    "    return count.to_dict()\n",
    "  \n",
    "  "
   ]
  },
  {
   "cell_type": "code",
   "execution_count": 7,
   "metadata": {},
   "outputs": [
    {
     "data": {
      "text/plain": [
       "{'netflix': 658}"
      ]
     },
     "execution_count": 7,
     "metadata": {},
     "output_type": "execute_result"
    }
   ],
   "source": [
    "get_score_count('netflix', 3.1,2016)"
   ]
  },
  {
   "attachments": {},
   "cell_type": "markdown",
   "metadata": {},
   "source": [
    " +Cantidad de películas por plataforma con filtro de PLATAFORMA. (La función debe llamarse get_count_platform(platform))"
   ]
  },
  {
   "cell_type": "code",
   "execution_count": 16,
   "metadata": {},
   "outputs": [],
   "source": [
    "#Defino la función\n",
    "def get_count_platform(platform: str):\n",
    "    #Lectura de la base de datos:\n",
    "    df = pd.read_csv('plataformas_completo.csv')\n",
    "\n",
    "     # Verificar que la plataforma sea una de las opciones válidas\n",
    "    if platform is not None and platform.lower() not in ['disney', 'amazon', 'hulu', 'netflix']:\n",
    "        raise ValueError(\"La plataforma debe ser una de las opciones válidas: Disney, Amazon, Hulu o Netflix.\")\n",
    "    \n",
    "    canal= df[df['ID'].str.contains(platform[0], case= False)]\n",
    "    conteo = len(canal)\n",
    "    return conteo\n",
    "\n",
    "    \n"
   ]
  },
  {
   "cell_type": "code",
   "execution_count": 17,
   "metadata": {},
   "outputs": [
    {
     "data": {
      "text/plain": [
       "8807"
      ]
     },
     "execution_count": 17,
     "metadata": {},
     "output_type": "execute_result"
    }
   ],
   "source": [
    "get_count_platform('netflix')"
   ]
  },
  {
   "attachments": {},
   "cell_type": "markdown",
   "metadata": {},
   "source": [
    "+Actor que más se repite según plataforma y año. (La función debe llamarse get_actor(platform, year))"
   ]
  },
  {
   "cell_type": "code",
   "execution_count": 22,
   "metadata": {},
   "outputs": [],
   "source": [
    "#Defino la función\n",
    "def get_actor(platform : str, year: int):\n",
    "    \n",
    "    #Lectura de la base de datos:\n",
    "    df = pd.read_csv('plataformas_completo.csv')\n",
    "\n",
    "    # Verificar que la plataforma sea una de las opciones válidas\n",
    "    if platform is not None and platform.lower() not in ['disney', 'amazon', 'hulu', 'netflix']:\n",
    "        raise ValueError(\"La plataforma debe ser una de las opciones válidas: Disney, Amazon, Hulu o Netflix.\")\n",
    "    \n",
    "    filtro= df[(df.release_year == year) & (df.platform == platform)]\n",
    "    # Poner el cast en un array para poder hacer el recorrido\n",
    "    cast= df.assign(actor=df.cast.str.split(',')).explode('cast')\n",
    "    actor_counts = cast['cast'].value_counts()\n",
    "    max_actor = actor_counts.index[0]\n",
    "    max_count = int(actor_counts.iloc[0])\n",
    "    # Creando un diccionario para poder ver los resultados \n",
    "    actor_repetido = {'actor': max_actor, 'count': max_count}\n",
    "    return JSONResponse(content=jsonable_encoder(actor_repetido))\n",
    "    "
   ]
  },
  {
   "cell_type": "code",
   "execution_count": 23,
   "metadata": {},
   "outputs": [
    {
     "data": {
      "text/plain": [
       "<starlette.responses.JSONResponse at 0x17085400190>"
      ]
     },
     "execution_count": 23,
     "metadata": {},
     "output_type": "execute_result"
    }
   ],
   "source": [
    "get_actor('netflix', 2018)"
   ]
  }
 ],
 "metadata": {
  "kernelspec": {
   "display_name": "Python 3",
   "language": "python",
   "name": "python3"
  },
  "language_info": {
   "codemirror_mode": {
    "name": "ipython",
    "version": 3
   },
   "file_extension": ".py",
   "mimetype": "text/x-python",
   "name": "python",
   "nbconvert_exporter": "python",
   "pygments_lexer": "ipython3",
   "version": "3.11.0"
  },
  "orig_nbformat": 4,
  "vscode": {
   "interpreter": {
    "hash": "c812eb984687e98b7686c463c3fae2045e58b2a2b4e065b3dcebe3cb7d51662e"
   }
  }
 },
 "nbformat": 4,
 "nbformat_minor": 2
}
